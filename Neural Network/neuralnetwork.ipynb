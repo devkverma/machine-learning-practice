{
 "cells": [
  {
   "cell_type": "code",
   "execution_count": 45,
   "metadata": {},
   "outputs": [],
   "source": [
    "import numpy as np\n",
    "from scipy import optimize"
   ]
  },
  {
   "cell_type": "code",
   "execution_count": 46,
   "metadata": {},
   "outputs": [],
   "source": [
    "class NeuralNetwork:\n",
    "\n",
    "    def __init__(self):\n",
    "        self.inputLayer = 2\n",
    "        self.outputLayer = 1\n",
    "        self.hiddenLayer = 3\n",
    "\n",
    "        # weights\n",
    "        self.W1 = np.random.randn(self.inputLayer,\n",
    "                                self.hiddenLayer)\n",
    "        self.W2 = np.random.randn(self.hiddenLayer,\n",
    "                                 self.outputLayer)\n",
    "    \n",
    "    def forward(self,X):\n",
    "        # propogate inputs through network\n",
    "        self.z2 = np.dot(X,self.W1)\n",
    "        self.a2 = self.sigmoid(self.z2)\n",
    "        self.z3 = np.dot(self.a2,self.W2)\n",
    "        yHat = self.sigmoid(self.z3)\n",
    "        return yHat\n",
    "\n",
    "    # Activation function\n",
    "    def sigmoid(self,z):\n",
    "        return 1/(1 + np.exp(-z))\n",
    "    \n",
    "    def sigmoidPrime(self,z):\n",
    "        # derivative of sigmoid function\n",
    "        return np.exp(-z)/((1 + np.exp(-z))**2)\n",
    "    \n",
    "    def costFunction(self,X,y):\n",
    "        self.yHat = self.forward(X)\n",
    "        J = 0.5*sum((y-self.yHat)**2)\n",
    "        return J\n",
    "    \n",
    "    def costFunctionPrime(self,X,y):\n",
    "        # compute derivative with respect to W1 and W2\n",
    "        self.yHat = self.forward(X)\n",
    "\n",
    "        delta3 = np.multiply(-(y-self.yHat),self.sigmoid(self.z3))\n",
    "        dJdW2 = np.dot(self.a2.T,delta3)\n",
    "\n",
    "        delta2 = np.dot(delta3,self.W2.T)*self.sigmoidPrime(self.z2)\n",
    "        dJdW1 = np.dot(X.T,delta2)\n",
    "\n",
    "        return dJdW1,dJdW2\n",
    "    \n",
    "    # Helper functions for interacting with other methods\n",
    "\n",
    "    def getParams(self):\n",
    "        # Get W1 and W2 rolled into vector:\n",
    "        params = np.concatenate((self.W1.ravel(),self.W2.ravel()))\n",
    "        return params\n",
    "    \n",
    "    def setParams(self,params):\n",
    "        W1_start = 0\n",
    "        W1_end = self.hiddenLayer*self.inputLayer\n",
    "        self.W1 = np.reshape(params[W1_start:W1_end],\n",
    "                             (self.inputLayer,self.hiddenLayer))\n",
    "        \n",
    "        W2_end = W1_end + self.hiddenLayer*self.outputLayer\n",
    "        self.W2 = np.reshape(params[W1_end:W2_end],\n",
    "                             (self.hiddenLayer,self.outputLayer))\n",
    "        \n",
    "    def computeGradients(self,X,y):\n",
    "        dJdW1,dJdW2 = self.costFunctionPrime(X,y)\n",
    "        return np.concatenate((dJdW1.ravel(),dJdW2.ravel()))\n",
    "    \n",
    "    def computeNumericalGradient(self,X,y):\n",
    "        paramsInitial = self.getParams()\n",
    "        numgrad = np.zeros(paramsInitial.shape)\n",
    "        perturb = np.zeros(paramsInitial.shape)\n",
    "        e = 1e-4\n",
    "\n",
    "        for p in range(len(paramsInitial)):\n",
    "            # set perturbation vector\n",
    "            perturb[p] = e\n",
    "            self.setParams(paramsInitial + perturb)\n",
    "            loss2 = self.costFunction(X,y)\n",
    "\n",
    "            self.setParams(paramsInitial - perturb)\n",
    "            loss1 = self.costFunction(X,y)\n",
    "\n",
    "            # compute numerical Gradient:\n",
    "            numgrad[p] = (loss2 - loss1)/(2*e)\n",
    "\n",
    "            # return the value we changed back to zero:\n",
    "            perturb[p] = 0\n",
    "        \n",
    "        self.setParams(paramsInitial)\n",
    "\n",
    "        return numgrad\n",
    "    \n",
    "\n",
    "class Trainer(object):\n",
    "    def __init__(self,N):\n",
    "        self.N = N\n",
    "\n",
    "    def costFunctionWrapper(self,params,X,y):\n",
    "        self.N.setParams(params)\n",
    "        cost = self.N.costFunction(X,y)\n",
    "        grad = self.N.computeGradients(X,y)\n",
    "        return cost,grad\n",
    "    \n",
    "    def callbackF(self,params):\n",
    "        self.N.setParams(params)\n",
    "        self.J.append(self.N.costFunction(self.X,self.y))\n",
    "\n",
    "    def train(self,X,y):\n",
    "        self.X = X\n",
    "        self.y = y\n",
    "\n",
    "        self.J = []\n",
    "\n",
    "        params0 = self.N.getParams()\n",
    "\n",
    "        options = {'maxiter':200,'disp':True}\n",
    "        _res = optimize.minimize(self.costFunctionWrapper,params0,\n",
    "                                 jac = True,method='BFGS',args = (X,y),\n",
    "                                 options= options,callback=self.callbackF)\n",
    "        \n",
    "        self.N.setParams(_res.x)\n",
    "        self.optimizationResults = _res\n",
    "\n"
   ]
  },
  {
   "cell_type": "code",
   "execution_count": 47,
   "metadata": {},
   "outputs": [],
   "source": [
    "X = np.array([[3,5],[5,1],[10,2]])\n",
    "y = np.array([[0.75],[0.82],[0.93]])\n"
   ]
  },
  {
   "cell_type": "code",
   "execution_count": 48,
   "metadata": {},
   "outputs": [],
   "source": [
    "NN = NeuralNetwork()\n",
    "yHat = NN.forward(X)"
   ]
  },
  {
   "cell_type": "code",
   "execution_count": 49,
   "metadata": {},
   "outputs": [
    {
     "data": {
      "text/plain": [
       "array([[0.79325833],\n",
       "       [0.72333969],\n",
       "       [0.70027618]])"
      ]
     },
     "execution_count": 49,
     "metadata": {},
     "output_type": "execute_result"
    }
   ],
   "source": [
    "yHat    # Bad prediction"
   ]
  },
  {
   "cell_type": "code",
   "execution_count": 50,
   "metadata": {},
   "outputs": [],
   "source": [
    "T = Trainer(NN)"
   ]
  },
  {
   "cell_type": "code",
   "execution_count": 51,
   "metadata": {},
   "outputs": [
    {
     "name": "stdout",
     "output_type": "stream",
     "text": [
      "Optimization terminated successfully.\n",
      "         Current function value: 0.000000\n",
      "         Iterations: 88\n",
      "         Function evaluations: 159\n",
      "         Gradient evaluations: 159\n"
     ]
    }
   ],
   "source": [
    "T.train(X,y)"
   ]
  },
  {
   "cell_type": "code",
   "execution_count": 53,
   "metadata": {},
   "outputs": [
    {
     "data": {
      "image/png": "[encoded data removed]",
      "text/plain": [
       "<Figure size 640x480 with 1 Axes>"
      ]
     },
     "metadata": {},
     "output_type": "display_data"
    }
   ],
   "source": [
    "# import matplotlib.pyplot as plt\n",
    "plt.plot(T.J)\n",
    "plt.show()"
   ]
  },
  {
   "cell_type": "code",
   "execution_count": 54,
   "metadata": {},
   "outputs": [
    {
     "data": {
      "text/plain": [
       "(array([[-4.53715049e-06,  1.57399106e-07,  8.07411855e-06],\n",
       "        [-1.69363892e-06, -2.70878704e-07,  4.01378932e-06]]),\n",
       " array([[-2.46755915e-07],\n",
       "        [-1.29428718e-08],\n",
       "        [-4.32415156e-08]]))"
      ]
     },
     "execution_count": 54,
     "metadata": {},
     "output_type": "execute_result"
    }
   ],
   "source": [
    "NN.costFunctionPrime(X,y)"
   ]
  },
  {
   "cell_type": "code",
   "execution_count": 55,
   "metadata": {},
   "outputs": [
    {
     "data": {
      "text/plain": [
       "array([[0.74999884],\n",
       "       [0.82000453],\n",
       "       [0.92999746]])"
      ]
     },
     "execution_count": 55,
     "metadata": {},
     "output_type": "execute_result"
    }
   ],
   "source": [
    "NN.forward(X)"
   ]
  },
  {
   "cell_type": "code",
   "execution_count": 56,
   "metadata": {},
   "outputs": [
    {
     "data": {
      "text/plain": [
       "array([[0.75],\n",
       "       [0.82],\n",
       "       [0.93]])"
      ]
     },
     "execution_count": 56,
     "metadata": {},
     "output_type": "execute_result"
    }
   ],
   "source": [
    "y"
   ]
  },
  {
   "cell_type": "code",
   "execution_count": null,
   "metadata": {},
   "outputs": [],
   "source": []
  }
 ],
 "metadata": {
  "kernelspec": {
   "display_name": "Machine Learning",
   "language": "python",
   "name": "python3"
  },
  "language_info": {
   "codemirror_mode": {
    "name": "ipython",
    "version": 3
   },
   "file_extension": ".py",
   "mimetype": "text/x-python",
   "name": "python",
   "nbconvert_exporter": "python",
   "pygments_lexer": "ipython3",
   "version": "3.12.5"
  }
 },
 "nbformat": 4,
 "nbformat_minor": 2
}
